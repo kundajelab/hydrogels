{
 "cells": [
  {
   "cell_type": "markdown",
   "metadata": {},
   "source": [
    "### DESEQ2 analysis of Hydrogel dataset\n",
    "\n",
    "2 Factor design: \n",
    "\n",
    "* Stiffness (Soft v Stiff) \n",
    "* Saha (yes, no) \n",
    "\n",
    "* 221511 naive overlap peaks \n",
    "* 3 biological replicates per Sample "
   ]
  },
  {
   "cell_type": "code",
   "execution_count": 1,
   "metadata": {},
   "outputs": [
    {
     "name": "stderr",
     "output_type": "stream",
     "text": [
      "Loading required package: S4Vectors\n",
      "Loading required package: stats4\n",
      "Loading required package: BiocGenerics\n",
      "Loading required package: parallel\n",
      "\n",
      "Attaching package: ‘BiocGenerics’\n",
      "\n",
      "The following objects are masked from ‘package:parallel’:\n",
      "\n",
      "    clusterApply, clusterApplyLB, clusterCall, clusterEvalQ,\n",
      "    clusterExport, clusterMap, parApply, parCapply, parLapply,\n",
      "    parLapplyLB, parRapply, parSapply, parSapplyLB\n",
      "\n",
      "The following objects are masked from ‘package:stats’:\n",
      "\n",
      "    IQR, mad, sd, var, xtabs\n",
      "\n",
      "The following objects are masked from ‘package:base’:\n",
      "\n",
      "    anyDuplicated, append, as.data.frame, basename, cbind, colMeans,\n",
      "    colnames, colSums, dirname, do.call, duplicated, eval, evalq,\n",
      "    Filter, Find, get, grep, grepl, intersect, is.unsorted, lapply,\n",
      "    lengths, Map, mapply, match, mget, order, paste, pmax, pmax.int,\n",
      "    pmin, pmin.int, Position, rank, rbind, Reduce, rowMeans, rownames,\n",
      "    rowSums, sapply, setdiff, sort, table, tapply, union, unique,\n",
      "    unsplit, which, which.max, which.min\n",
      "\n",
      "\n",
      "Attaching package: ‘S4Vectors’\n",
      "\n",
      "The following object is masked from ‘package:base’:\n",
      "\n",
      "    expand.grid\n",
      "\n",
      "Loading required package: IRanges\n",
      "Loading required package: GenomicRanges\n",
      "Loading required package: GenomeInfoDb\n",
      "Loading required package: SummarizedExperiment\n",
      "Loading required package: Biobase\n",
      "Welcome to Bioconductor\n",
      "\n",
      "    Vignettes contain introductory material; view with\n",
      "    'browseVignettes()'. To cite Bioconductor, see\n",
      "    'citation(\"Biobase\")', and for packages 'citation(\"pkgname\")'.\n",
      "\n",
      "Loading required package: DelayedArray\n",
      "Loading required package: matrixStats\n",
      "\n",
      "Attaching package: ‘matrixStats’\n",
      "\n",
      "The following objects are masked from ‘package:Biobase’:\n",
      "\n",
      "    anyMissing, rowMedians\n",
      "\n",
      "Loading required package: BiocParallel\n",
      "\n",
      "Attaching package: ‘DelayedArray’\n",
      "\n",
      "The following objects are masked from ‘package:matrixStats’:\n",
      "\n",
      "    colMaxs, colMins, colRanges, rowMaxs, rowMins, rowRanges\n",
      "\n",
      "The following objects are masked from ‘package:base’:\n",
      "\n",
      "    aperm, apply\n",
      "\n",
      "\n",
      "Attaching package: ‘IHW’\n",
      "\n",
      "The following object is masked from ‘package:ggplot2’:\n",
      "\n",
      "    alpha\n",
      "\n",
      "Loading required package: mgcv\n",
      "Loading required package: nlme\n",
      "\n",
      "Attaching package: ‘nlme’\n",
      "\n",
      "The following object is masked from ‘package:IRanges’:\n",
      "\n",
      "    collapse\n",
      "\n",
      "This is mgcv 1.8-25. For overview type 'help(\"mgcv-package\")'.\n",
      "Loading required package: genefilter\n",
      "\n",
      "Attaching package: ‘genefilter’\n",
      "\n",
      "The following objects are masked from ‘package:matrixStats’:\n",
      "\n",
      "    rowSds, rowVars\n",
      "\n",
      "\n",
      "Attaching package: ‘limma’\n",
      "\n",
      "The following object is masked from ‘package:DESeq2’:\n",
      "\n",
      "    plotMA\n",
      "\n",
      "The following object is masked from ‘package:BiocGenerics’:\n",
      "\n",
      "    plotMA\n",
      "\n"
     ]
    }
   ],
   "source": [
    "rm(list=ls())\n",
    "#load necessary libraries \n",
    "library(ggplot2)\n",
    "library(DESeq2)\n",
    "library(\"BiocParallel\")\n",
    "parallelFlag=TRUE\n",
    "register(MulticoreParam(20))\n",
    "library(\"IHW\")\n",
    "library(\"pheatmap\")\n",
    "library(sva)\n",
    "library(limma)"
   ]
  },
  {
   "cell_type": "markdown",
   "metadata": {},
   "source": [
    "## Load data and design"
   ]
  },
  {
   "cell_type": "code",
   "execution_count": 2,
   "metadata": {},
   "outputs": [],
   "source": [
    "#load ATAC-seq raw read counts\n",
    "data=read.table('hydrogel.soft.stiff.saha.txt',header=TRUE,sep='\\t')\n",
    "#concatenate chrom/start/end columns values to server as rownames for the dataframe of the form chrom_start_end \n",
    "rownames(data)=paste(data$Chrom,data$Start,data$End,sep=\"_\")\n",
    "data$Chrom=NULL\n",
    "data$Start=NULL\n",
    "data$End=NULL\n",
    "\n",
    "#data=data[rowSums(data)>0,]\n"
   ]
  },
  {
   "cell_type": "code",
   "execution_count": 3,
   "metadata": {},
   "outputs": [
    {
     "data": {
      "text/html": [
       "<table>\n",
       "<thead><tr><th></th><th scope=col>X100Pa_3D_Rep1</th><th scope=col>X100Pa_3D_Rep2</th><th scope=col>X100Pa_3D_Rep3</th><th scope=col>X2000Pa_3D_Rep1</th><th scope=col>X2000Pa_3D_Rep2</th><th scope=col>X2000Pa_3D_Rep3</th><th scope=col>saha_100Pa_Rep1</th><th scope=col>saha_100Pa_Rep2</th><th scope=col>saha_100Pa_Rep3</th><th scope=col>saha_2000Pa_Rep1</th><th scope=col>saha_2000Pa_Rep2</th><th scope=col>saha_2000Pa_Rep3</th></tr></thead>\n",
       "<tbody>\n",
       "\t<tr><th scope=row>chr1_713708_714452</th><td> 6</td><td>11</td><td> 7</td><td>17</td><td>27</td><td>17</td><td>25</td><td>23</td><td>16</td><td>22</td><td>24</td><td>20</td></tr>\n",
       "\t<tr><th scope=row>chr1_762643_763047</th><td> 1</td><td> 5</td><td> 0</td><td> 3</td><td> 7</td><td> 4</td><td> 5</td><td> 5</td><td> 2</td><td> 3</td><td> 6</td><td> 7</td></tr>\n",
       "\t<tr><th scope=row>chr1_802987_803295</th><td> 2</td><td> 7</td><td> 4</td><td> 3</td><td> 3</td><td> 1</td><td> 8</td><td> 6</td><td> 6</td><td> 7</td><td> 8</td><td> 4</td></tr>\n",
       "\t<tr><th scope=row>chr1_804984_805589</th><td> 2</td><td> 6</td><td> 1</td><td> 6</td><td> 7</td><td> 6</td><td> 7</td><td> 3</td><td> 4</td><td> 5</td><td>16</td><td> 4</td></tr>\n",
       "\t<tr><th scope=row>chr1_834765_835239</th><td> 7</td><td>12</td><td>14</td><td>15</td><td> 7</td><td> 9</td><td> 5</td><td> 2</td><td> 0</td><td> 8</td><td>10</td><td> 4</td></tr>\n",
       "\t<tr><th scope=row>chr1_839144_839717</th><td>13</td><td>17</td><td> 5</td><td>23</td><td>15</td><td>20</td><td> 6</td><td> 4</td><td> 3</td><td> 5</td><td>12</td><td>11</td></tr>\n",
       "</tbody>\n",
       "</table>\n"
      ],
      "text/latex": [
       "\\begin{tabular}{r|llllllllllll}\n",
       "  & X100Pa\\_3D\\_Rep1 & X100Pa\\_3D\\_Rep2 & X100Pa\\_3D\\_Rep3 & X2000Pa\\_3D\\_Rep1 & X2000Pa\\_3D\\_Rep2 & X2000Pa\\_3D\\_Rep3 & saha\\_100Pa\\_Rep1 & saha\\_100Pa\\_Rep2 & saha\\_100Pa\\_Rep3 & saha\\_2000Pa\\_Rep1 & saha\\_2000Pa\\_Rep2 & saha\\_2000Pa\\_Rep3\\\\\n",
       "\\hline\n",
       "\tchr1\\_713708\\_714452 &  6 & 11 &  7 & 17 & 27 & 17 & 25 & 23 & 16 & 22 & 24 & 20\\\\\n",
       "\tchr1\\_762643\\_763047 &  1 &  5 &  0 &  3 &  7 &  4 &  5 &  5 &  2 &  3 &  6 &  7\\\\\n",
       "\tchr1\\_802987\\_803295 &  2 &  7 &  4 &  3 &  3 &  1 &  8 &  6 &  6 &  7 &  8 &  4\\\\\n",
       "\tchr1\\_804984\\_805589 &  2 &  6 &  1 &  6 &  7 &  6 &  7 &  3 &  4 &  5 & 16 &  4\\\\\n",
       "\tchr1\\_834765\\_835239 &  7 & 12 & 14 & 15 &  7 &  9 &  5 &  2 &  0 &  8 & 10 &  4\\\\\n",
       "\tchr1\\_839144\\_839717 & 13 & 17 &  5 & 23 & 15 & 20 &  6 &  4 &  3 &  5 & 12 & 11\\\\\n",
       "\\end{tabular}\n"
      ],
      "text/markdown": [
       "\n",
       "| <!--/--> | X100Pa_3D_Rep1 | X100Pa_3D_Rep2 | X100Pa_3D_Rep3 | X2000Pa_3D_Rep1 | X2000Pa_3D_Rep2 | X2000Pa_3D_Rep3 | saha_100Pa_Rep1 | saha_100Pa_Rep2 | saha_100Pa_Rep3 | saha_2000Pa_Rep1 | saha_2000Pa_Rep2 | saha_2000Pa_Rep3 | \n",
       "|---|---|---|---|---|---|\n",
       "| chr1_713708_714452 |  6 | 11 |  7 | 17 | 27 | 17 | 25 | 23 | 16 | 22 | 24 | 20 | \n",
       "| chr1_762643_763047 |  1 |  5 |  0 |  3 |  7 |  4 |  5 |  5 |  2 |  3 |  6 |  7 | \n",
       "| chr1_802987_803295 |  2 |  7 |  4 |  3 |  3 |  1 |  8 |  6 |  6 |  7 |  8 |  4 | \n",
       "| chr1_804984_805589 |  2 |  6 |  1 |  6 |  7 |  6 |  7 |  3 |  4 |  5 | 16 |  4 | \n",
       "| chr1_834765_835239 |  7 | 12 | 14 | 15 |  7 |  9 |  5 |  2 |  0 |  8 | 10 |  4 | \n",
       "| chr1_839144_839717 | 13 | 17 |  5 | 23 | 15 | 20 |  6 |  4 |  3 |  5 | 12 | 11 | \n",
       "\n",
       "\n"
      ],
      "text/plain": [
       "                   X100Pa_3D_Rep1 X100Pa_3D_Rep2 X100Pa_3D_Rep3 X2000Pa_3D_Rep1\n",
       "chr1_713708_714452  6             11              7             17             \n",
       "chr1_762643_763047  1              5              0              3             \n",
       "chr1_802987_803295  2              7              4              3             \n",
       "chr1_804984_805589  2              6              1              6             \n",
       "chr1_834765_835239  7             12             14             15             \n",
       "chr1_839144_839717 13             17              5             23             \n",
       "                   X2000Pa_3D_Rep2 X2000Pa_3D_Rep3 saha_100Pa_Rep1\n",
       "chr1_713708_714452 27              17              25             \n",
       "chr1_762643_763047  7               4               5             \n",
       "chr1_802987_803295  3               1               8             \n",
       "chr1_804984_805589  7               6               7             \n",
       "chr1_834765_835239  7               9               5             \n",
       "chr1_839144_839717 15              20               6             \n",
       "                   saha_100Pa_Rep2 saha_100Pa_Rep3 saha_2000Pa_Rep1\n",
       "chr1_713708_714452 23              16              22              \n",
       "chr1_762643_763047  5               2               3              \n",
       "chr1_802987_803295  6               6               7              \n",
       "chr1_804984_805589  3               4               5              \n",
       "chr1_834765_835239  2               0               8              \n",
       "chr1_839144_839717  4               3               5              \n",
       "                   saha_2000Pa_Rep2 saha_2000Pa_Rep3\n",
       "chr1_713708_714452 24               20              \n",
       "chr1_762643_763047  6                7              \n",
       "chr1_802987_803295  8                4              \n",
       "chr1_804984_805589 16                4              \n",
       "chr1_834765_835239 10                4              \n",
       "chr1_839144_839717 12               11              "
      ]
     },
     "metadata": {},
     "output_type": "display_data"
    }
   ],
   "source": [
    "head(data)"
   ]
  },
  {
   "cell_type": "code",
   "execution_count": 4,
   "metadata": {},
   "outputs": [],
   "source": [
    "#load the metadata\n",
    "batches=read.table(\"batches_hydrogel.soft.stiff.saha.txt\",header=TRUE,sep='\\t',row.names=1)\n",
    "batches$Stiffness=factor(batches$Stiffness)\n",
    "batches$Saha=factor(batches$Saha)\n",
    "batches$Sample=factor(batches$Sample)\n"
   ]
  },
  {
   "cell_type": "code",
   "execution_count": 5,
   "metadata": {},
   "outputs": [
    {
     "data": {
      "text/html": [
       "<table>\n",
       "<thead><tr><th></th><th scope=col>Stiffness</th><th scope=col>Saha</th><th scope=col>Sample</th></tr></thead>\n",
       "<tbody>\n",
       "\t<tr><th scope=row>X100Pa_3D_Rep1</th><td>Soft       </td><td>No         </td><td>100Pa      </td></tr>\n",
       "\t<tr><th scope=row>X100Pa_3D_Rep2</th><td>Soft       </td><td>No         </td><td>100Pa      </td></tr>\n",
       "\t<tr><th scope=row>X100Pa_3D_Rep3</th><td>Soft       </td><td>No         </td><td>100Pa      </td></tr>\n",
       "\t<tr><th scope=row>X2000Pa_3D_Rep1</th><td>Stiff      </td><td>No         </td><td>2000Pa     </td></tr>\n",
       "\t<tr><th scope=row>X2000Pa_3D_Rep2</th><td>Stiff      </td><td>No         </td><td>2000Pa     </td></tr>\n",
       "\t<tr><th scope=row>X2000Pa_3D_Rep3</th><td>Stiff      </td><td>No         </td><td>2000Pa     </td></tr>\n",
       "\t<tr><th scope=row>saha_100Pa_Rep1</th><td>Soft       </td><td>Yes        </td><td>saha_100Pa </td></tr>\n",
       "\t<tr><th scope=row>saha_100Pa_Rep2</th><td>Soft       </td><td>Yes        </td><td>saha_100Pa </td></tr>\n",
       "\t<tr><th scope=row>saha_100Pa_Rep3</th><td>Soft       </td><td>Yes        </td><td>saha_100Pa </td></tr>\n",
       "\t<tr><th scope=row>saha_2000Pa_Rep1</th><td>Stiff      </td><td>Yes        </td><td>saha_2000Pa</td></tr>\n",
       "\t<tr><th scope=row>saha_2000Pa_Rep2</th><td>Stiff      </td><td>Yes        </td><td>saha_2000Pa</td></tr>\n",
       "\t<tr><th scope=row>saha_2000Pa_Rep3</th><td>Stiff      </td><td>Yes        </td><td>saha_2000Pa</td></tr>\n",
       "</tbody>\n",
       "</table>\n"
      ],
      "text/latex": [
       "\\begin{tabular}{r|lll}\n",
       "  & Stiffness & Saha & Sample\\\\\n",
       "\\hline\n",
       "\tX100Pa\\_3D\\_Rep1 & Soft        & No          & 100Pa      \\\\\n",
       "\tX100Pa\\_3D\\_Rep2 & Soft        & No          & 100Pa      \\\\\n",
       "\tX100Pa\\_3D\\_Rep3 & Soft        & No          & 100Pa      \\\\\n",
       "\tX2000Pa\\_3D\\_Rep1 & Stiff       & No          & 2000Pa     \\\\\n",
       "\tX2000Pa\\_3D\\_Rep2 & Stiff       & No          & 2000Pa     \\\\\n",
       "\tX2000Pa\\_3D\\_Rep3 & Stiff       & No          & 2000Pa     \\\\\n",
       "\tsaha\\_100Pa\\_Rep1 & Soft          & Yes           & saha\\_100Pa \\\\\n",
       "\tsaha\\_100Pa\\_Rep2 & Soft          & Yes           & saha\\_100Pa \\\\\n",
       "\tsaha\\_100Pa\\_Rep3 & Soft          & Yes           & saha\\_100Pa \\\\\n",
       "\tsaha\\_2000Pa\\_Rep1 & Stiff         & Yes           & saha\\_2000Pa\\\\\n",
       "\tsaha\\_2000Pa\\_Rep2 & Stiff         & Yes           & saha\\_2000Pa\\\\\n",
       "\tsaha\\_2000Pa\\_Rep3 & Stiff         & Yes           & saha\\_2000Pa\\\\\n",
       "\\end{tabular}\n"
      ],
      "text/markdown": [
       "\n",
       "| <!--/--> | Stiffness | Saha | Sample | \n",
       "|---|---|---|---|---|---|---|---|---|---|---|---|\n",
       "| X100Pa_3D_Rep1 | Soft        | No          | 100Pa       | \n",
       "| X100Pa_3D_Rep2 | Soft        | No          | 100Pa       | \n",
       "| X100Pa_3D_Rep3 | Soft        | No          | 100Pa       | \n",
       "| X2000Pa_3D_Rep1 | Stiff       | No          | 2000Pa      | \n",
       "| X2000Pa_3D_Rep2 | Stiff       | No          | 2000Pa      | \n",
       "| X2000Pa_3D_Rep3 | Stiff       | No          | 2000Pa      | \n",
       "| saha_100Pa_Rep1 | Soft        | Yes         | saha_100Pa  | \n",
       "| saha_100Pa_Rep2 | Soft        | Yes         | saha_100Pa  | \n",
       "| saha_100Pa_Rep3 | Soft        | Yes         | saha_100Pa  | \n",
       "| saha_2000Pa_Rep1 | Stiff       | Yes         | saha_2000Pa | \n",
       "| saha_2000Pa_Rep2 | Stiff       | Yes         | saha_2000Pa | \n",
       "| saha_2000Pa_Rep3 | Stiff       | Yes         | saha_2000Pa | \n",
       "\n",
       "\n"
      ],
      "text/plain": [
       "                 Stiffness Saha Sample     \n",
       "X100Pa_3D_Rep1   Soft      No   100Pa      \n",
       "X100Pa_3D_Rep2   Soft      No   100Pa      \n",
       "X100Pa_3D_Rep3   Soft      No   100Pa      \n",
       "X2000Pa_3D_Rep1  Stiff     No   2000Pa     \n",
       "X2000Pa_3D_Rep2  Stiff     No   2000Pa     \n",
       "X2000Pa_3D_Rep3  Stiff     No   2000Pa     \n",
       "saha_100Pa_Rep1  Soft      Yes  saha_100Pa \n",
       "saha_100Pa_Rep2  Soft      Yes  saha_100Pa \n",
       "saha_100Pa_Rep3  Soft      Yes  saha_100Pa \n",
       "saha_2000Pa_Rep1 Stiff     Yes  saha_2000Pa\n",
       "saha_2000Pa_Rep2 Stiff     Yes  saha_2000Pa\n",
       "saha_2000Pa_Rep3 Stiff     Yes  saha_2000Pa"
      ]
     },
     "metadata": {},
     "output_type": "display_data"
    }
   ],
   "source": [
    "batches"
   ]
  },
  {
   "cell_type": "markdown",
   "metadata": {},
   "source": [
    "## Soft vs Stiff Analysis \n"
   ]
  },
  {
   "cell_type": "code",
   "execution_count": 6,
   "metadata": {},
   "outputs": [],
   "source": [
    "soft_stiff_data=data[,1:6]\n",
    "soft_stiff_batches=batches[1:6,]"
   ]
  },
  {
   "cell_type": "code",
   "execution_count": 7,
   "metadata": {},
   "outputs": [
    {
     "data": {
      "text/html": [
       "<table>\n",
       "<thead><tr><th></th><th scope=col>X100Pa_3D_Rep1</th><th scope=col>X100Pa_3D_Rep2</th><th scope=col>X100Pa_3D_Rep3</th><th scope=col>X2000Pa_3D_Rep1</th><th scope=col>X2000Pa_3D_Rep2</th><th scope=col>X2000Pa_3D_Rep3</th></tr></thead>\n",
       "<tbody>\n",
       "\t<tr><th scope=row>chr1_713708_714452</th><td> 6</td><td>11</td><td> 7</td><td>17</td><td>27</td><td>17</td></tr>\n",
       "\t<tr><th scope=row>chr1_762643_763047</th><td> 1</td><td> 5</td><td> 0</td><td> 3</td><td> 7</td><td> 4</td></tr>\n",
       "\t<tr><th scope=row>chr1_802987_803295</th><td> 2</td><td> 7</td><td> 4</td><td> 3</td><td> 3</td><td> 1</td></tr>\n",
       "\t<tr><th scope=row>chr1_804984_805589</th><td> 2</td><td> 6</td><td> 1</td><td> 6</td><td> 7</td><td> 6</td></tr>\n",
       "\t<tr><th scope=row>chr1_834765_835239</th><td> 7</td><td>12</td><td>14</td><td>15</td><td> 7</td><td> 9</td></tr>\n",
       "\t<tr><th scope=row>chr1_839144_839717</th><td>13</td><td>17</td><td> 5</td><td>23</td><td>15</td><td>20</td></tr>\n",
       "</tbody>\n",
       "</table>\n"
      ],
      "text/latex": [
       "\\begin{tabular}{r|llllll}\n",
       "  & X100Pa\\_3D\\_Rep1 & X100Pa\\_3D\\_Rep2 & X100Pa\\_3D\\_Rep3 & X2000Pa\\_3D\\_Rep1 & X2000Pa\\_3D\\_Rep2 & X2000Pa\\_3D\\_Rep3\\\\\n",
       "\\hline\n",
       "\tchr1\\_713708\\_714452 &  6 & 11 &  7 & 17 & 27 & 17\\\\\n",
       "\tchr1\\_762643\\_763047 &  1 &  5 &  0 &  3 &  7 &  4\\\\\n",
       "\tchr1\\_802987\\_803295 &  2 &  7 &  4 &  3 &  3 &  1\\\\\n",
       "\tchr1\\_804984\\_805589 &  2 &  6 &  1 &  6 &  7 &  6\\\\\n",
       "\tchr1\\_834765\\_835239 &  7 & 12 & 14 & 15 &  7 &  9\\\\\n",
       "\tchr1\\_839144\\_839717 & 13 & 17 &  5 & 23 & 15 & 20\\\\\n",
       "\\end{tabular}\n"
      ],
      "text/markdown": [
       "\n",
       "| <!--/--> | X100Pa_3D_Rep1 | X100Pa_3D_Rep2 | X100Pa_3D_Rep3 | X2000Pa_3D_Rep1 | X2000Pa_3D_Rep2 | X2000Pa_3D_Rep3 | \n",
       "|---|---|---|---|---|---|\n",
       "| chr1_713708_714452 |  6 | 11 |  7 | 17 | 27 | 17 | \n",
       "| chr1_762643_763047 |  1 |  5 |  0 |  3 |  7 |  4 | \n",
       "| chr1_802987_803295 |  2 |  7 |  4 |  3 |  3 |  1 | \n",
       "| chr1_804984_805589 |  2 |  6 |  1 |  6 |  7 |  6 | \n",
       "| chr1_834765_835239 |  7 | 12 | 14 | 15 |  7 |  9 | \n",
       "| chr1_839144_839717 | 13 | 17 |  5 | 23 | 15 | 20 | \n",
       "\n",
       "\n"
      ],
      "text/plain": [
       "                   X100Pa_3D_Rep1 X100Pa_3D_Rep2 X100Pa_3D_Rep3 X2000Pa_3D_Rep1\n",
       "chr1_713708_714452  6             11              7             17             \n",
       "chr1_762643_763047  1              5              0              3             \n",
       "chr1_802987_803295  2              7              4              3             \n",
       "chr1_804984_805589  2              6              1              6             \n",
       "chr1_834765_835239  7             12             14             15             \n",
       "chr1_839144_839717 13             17              5             23             \n",
       "                   X2000Pa_3D_Rep2 X2000Pa_3D_Rep3\n",
       "chr1_713708_714452 27              17             \n",
       "chr1_762643_763047  7               4             \n",
       "chr1_802987_803295  3               1             \n",
       "chr1_804984_805589  7               6             \n",
       "chr1_834765_835239  7               9             \n",
       "chr1_839144_839717 15              20             "
      ]
     },
     "metadata": {},
     "output_type": "display_data"
    },
    {
     "data": {
      "text/html": [
       "<table>\n",
       "<thead><tr><th></th><th scope=col>Stiffness</th><th scope=col>Saha</th><th scope=col>Sample</th></tr></thead>\n",
       "<tbody>\n",
       "\t<tr><th scope=row>X100Pa_3D_Rep1</th><td>Soft  </td><td>No    </td><td>100Pa </td></tr>\n",
       "\t<tr><th scope=row>X100Pa_3D_Rep2</th><td>Soft  </td><td>No    </td><td>100Pa </td></tr>\n",
       "\t<tr><th scope=row>X100Pa_3D_Rep3</th><td>Soft  </td><td>No    </td><td>100Pa </td></tr>\n",
       "\t<tr><th scope=row>X2000Pa_3D_Rep1</th><td>Stiff </td><td>No    </td><td>2000Pa</td></tr>\n",
       "\t<tr><th scope=row>X2000Pa_3D_Rep2</th><td>Stiff </td><td>No    </td><td>2000Pa</td></tr>\n",
       "\t<tr><th scope=row>X2000Pa_3D_Rep3</th><td>Stiff </td><td>No    </td><td>2000Pa</td></tr>\n",
       "</tbody>\n",
       "</table>\n"
      ],
      "text/latex": [
       "\\begin{tabular}{r|lll}\n",
       "  & Stiffness & Saha & Sample\\\\\n",
       "\\hline\n",
       "\tX100Pa\\_3D\\_Rep1 & Soft   & No     & 100Pa \\\\\n",
       "\tX100Pa\\_3D\\_Rep2 & Soft   & No     & 100Pa \\\\\n",
       "\tX100Pa\\_3D\\_Rep3 & Soft   & No     & 100Pa \\\\\n",
       "\tX2000Pa\\_3D\\_Rep1 & Stiff  & No     & 2000Pa\\\\\n",
       "\tX2000Pa\\_3D\\_Rep2 & Stiff  & No     & 2000Pa\\\\\n",
       "\tX2000Pa\\_3D\\_Rep3 & Stiff  & No     & 2000Pa\\\\\n",
       "\\end{tabular}\n"
      ],
      "text/markdown": [
       "\n",
       "| <!--/--> | Stiffness | Saha | Sample | \n",
       "|---|---|---|---|---|---|\n",
       "| X100Pa_3D_Rep1 | Soft   | No     | 100Pa  | \n",
       "| X100Pa_3D_Rep2 | Soft   | No     | 100Pa  | \n",
       "| X100Pa_3D_Rep3 | Soft   | No     | 100Pa  | \n",
       "| X2000Pa_3D_Rep1 | Stiff  | No     | 2000Pa | \n",
       "| X2000Pa_3D_Rep2 | Stiff  | No     | 2000Pa | \n",
       "| X2000Pa_3D_Rep3 | Stiff  | No     | 2000Pa | \n",
       "\n",
       "\n"
      ],
      "text/plain": [
       "                Stiffness Saha Sample\n",
       "X100Pa_3D_Rep1  Soft      No   100Pa \n",
       "X100Pa_3D_Rep2  Soft      No   100Pa \n",
       "X100Pa_3D_Rep3  Soft      No   100Pa \n",
       "X2000Pa_3D_Rep1 Stiff     No   2000Pa\n",
       "X2000Pa_3D_Rep2 Stiff     No   2000Pa\n",
       "X2000Pa_3D_Rep3 Stiff     No   2000Pa"
      ]
     },
     "metadata": {},
     "output_type": "display_data"
    }
   ],
   "source": [
    "head(soft_stiff_data)\n",
    "soft_stiff_batches"
   ]
  },
  {
   "cell_type": "code",
   "execution_count": 8,
   "metadata": {},
   "outputs": [
    {
     "data": {},
     "metadata": {},
     "output_type": "display_data"
    },
    {
     "data": {},
     "metadata": {},
     "output_type": "display_data"
    },
    {
     "data": {
      "image/png": "[encoded data removed]",
      "text/plain": [
       "plot without title"
      ]
     },
     "metadata": {},
     "output_type": "display_data"
    },
    {
     "data": {
      "image/png": "[encoded data removed]",
      "text/plain": [
       "plot without title"
      ]
     },
     "metadata": {},
     "output_type": "display_data"
    }
   ],
   "source": [
    "#PCA on shifted log of normalized counts\n",
    "normcounts=soft_stiff_data\n",
    "normcounts[normcounts<0]=0\n",
    "lognc=log2(normcounts+1)\n",
    "data.pca=prcomp(t(lognc))\n",
    "var_explained=round(100*data.pca$sdev^2/sum(data.pca$sdev^2),2)\n",
    "var_explained_df=data.frame(seq(1,length(var_explained)),var_explained)\n",
    "\n",
    "pca_df=data.frame(data.pca$x)\n",
    "pca_df=cbind(pca_df,soft_stiff_batches)\n",
    "\n",
    "\n",
    "p1=ggplot(data=pca_df,\n",
    "         aes(x=pca_df$PC1,\n",
    "            y=pca_df$PC2,\n",
    "            label=rownames(pca_df),\n",
    "            color=pca_df$Stiffness,\n",
    "            shape=pca_df$Saha))+\n",
    "geom_point(size=5)+\n",
    "geom_text()+\n",
    "scale_color_manual(name='Soft v Stiff',values=c(\"#1b9e77\",\"#d95f02\"))\n",
    "p1\n",
    "\n",
    "p2=ggplot(data=pca_df,\n",
    "         aes(x=pca_df$PC2,\n",
    "            y=pca_df$PC3,\n",
    "            label=rownames(pca_df),\n",
    "            color=pca_df$Stiffness,\n",
    "            shape=pca_df$Saha))+\n",
    "geom_point(size=5)+\n",
    "geom_text()+\n",
    "scale_color_manual(name='Soft v Stiff',values=c(\"#1b9e77\",\"#d95f02\"))\n",
    "p2"
   ]
  },
  {
   "cell_type": "code",
   "execution_count": 9,
   "metadata": {},
   "outputs": [
    {
     "data": {
      "text/html": [
       "<ol class=list-inline>\n",
       "\t<li>136618</li>\n",
       "\t<li>135533</li>\n",
       "\t<li>6107</li>\n",
       "\t<li>146367</li>\n",
       "\t<li>48981</li>\n",
       "\t<li>79955</li>\n",
       "</ol>\n"
      ],
      "text/latex": [
       "\\begin{enumerate*}\n",
       "\\item 136618\n",
       "\\item 135533\n",
       "\\item 6107\n",
       "\\item 146367\n",
       "\\item 48981\n",
       "\\item 79955\n",
       "\\end{enumerate*}\n"
      ],
      "text/markdown": [
       "1. 136618\n",
       "2. 135533\n",
       "3. 6107\n",
       "4. 146367\n",
       "5. 48981\n",
       "6. 79955\n",
       "\n",
       "\n"
      ],
      "text/plain": [
       "[1] 136618 135533   6107 146367  48981  79955"
      ]
     },
     "metadata": {},
     "output_type": "display_data"
    }
   ],
   "source": [
    "pc1_loadings=sort(data.pca$rotation[, 1])\n",
    "    upper_bound=mean(pc1_loadings)+2*sd(pc1_loadings)\n",
    "    toselect=c(names(pc1_loadings[pc1_loadings>upper_bound]))\n",
    "    heatmap_indices=match(toselect,rownames(lognc))\n",
    "    head(heatmap_indices)\n",
    "    forheatmap=lognc[heatmap_indices,]\n",
    "    outfname=paste(\"pc1.nosv.soft.stiff.highest.\",2,'.tsv',sep='')\n",
    "    write.table(forheatmap,file=outfname,row.names=TRUE,col.names=TRUE,sep='\\t')"
   ]
  },
  {
   "cell_type": "code",
   "execution_count": null,
   "metadata": {},
   "outputs": [],
   "source": [
    "#Surrogate Variable Analysis \n",
    "soft_stiff_data=soft_stiff_data[rowSums(soft_stiff_data)>0,]\n",
    "mod0=model.matrix(~1,data=soft_stiff_batches)\n",
    "mod1=model.matrix(~Stiffness,data=soft_stiff_batches)\n",
    "sva.obj=svaseq(as.matrix(soft_stiff_data),mod1,mod0)\n"
   ]
  },
  {
   "cell_type": "code",
   "execution_count": null,
   "metadata": {},
   "outputs": [],
   "source": [
    "sur_var=data.frame(sva.obj$sv)\n",
    "names(sur_var)=c(\"sv1\",\"sv2\")\n",
    "soft_stiff_batches=cbind(soft_stiff_batches,sur_var)"
   ]
  },
  {
   "cell_type": "code",
   "execution_count": null,
   "metadata": {},
   "outputs": [],
   "source": [
    "\n",
    "#Create DESeq object\n",
    "dds <- DESeqDataSetFromMatrix(countData = soft_stiff_data,\n",
    "                              colData = soft_stiff_batches,\n",
    "                              design = ~Stiffness+sv1+sv2)\n"
   ]
  },
  {
   "cell_type": "code",
   "execution_count": null,
   "metadata": {},
   "outputs": [],
   "source": [
    "#perform size factor estimation for for housekeeping (HK) promoters\n",
    "hk_promoters=read.table(\"../background/hydrogel.soft.stiff.saha.HK.txt\",header=FALSE,sep='\\t')\n",
    "hk_promoters=paste(hk_promoters[,1],hk_promoters[,2],hk_promoters[,3],sep=\"_\")\n",
    "soft_stiff_hk_promoter_indices=match(hk_promoters,rownames(soft_stiff_data))\n",
    "head(soft_stiff_hk_promoter_indices)"
   ]
  },
  {
   "cell_type": "code",
   "execution_count": null,
   "metadata": {},
   "outputs": [],
   "source": [
    "dds <- estimateSizeFactors(dds, controlGenes=soft_stiff_hk_promoter_indices)"
   ]
  },
  {
   "cell_type": "markdown",
   "metadata": {},
   "source": [
    "## Extract and store normalized counts for further analysis "
   ]
  },
  {
   "cell_type": "code",
   "execution_count": null,
   "metadata": {},
   "outputs": [],
   "source": [
    "normcounts=counts(dds,normalized=TRUE)\n",
    "\n",
    "#use limma's removeBatchEffect function \n",
    "tokeep=model.matrix(~Stiffness,data=soft_stiff_batches)\n",
    "normcounts=removeBatchEffect(normcounts,design=tokeep,covariates = subset(soft_stiff_batches,select=c(\"sv1\",\"sv2\")))\n",
    "\n",
    "\n",
    "write.table(normcounts,\"soft_stiff_normcounts_from_deseq.txt\",quote=FALSE,sep='\\t',col.names=TRUE,row.names=TRUE)\n"
   ]
  },
  {
   "cell_type": "code",
   "execution_count": null,
   "metadata": {},
   "outputs": [],
   "source": [
    "head(normcounts)"
   ]
  },
  {
   "cell_type": "markdown",
   "metadata": {},
   "source": [
    "## Differential Accessibility Operation"
   ]
  },
  {
   "cell_type": "code",
   "execution_count": null,
   "metadata": {},
   "outputs": [],
   "source": [
    "#Run the differential analysis\n",
    "dds <- DESeq(dds,parallel = TRUE)\n"
   ]
  },
  {
   "cell_type": "code",
   "execution_count": null,
   "metadata": {},
   "outputs": [],
   "source": [
    "plotDispEsts(dds)"
   ]
  },
  {
   "cell_type": "code",
   "execution_count": null,
   "metadata": {},
   "outputs": [],
   "source": [
    "DESeq2::plotMA(dds)"
   ]
  },
  {
   "cell_type": "markdown",
   "metadata": {},
   "source": [
    "## Standard BH Correction (no optimal thresholding) "
   ]
  },
  {
   "cell_type": "code",
   "execution_count": null,
   "metadata": {},
   "outputs": [],
   "source": [
    "res=results(dds)\n",
    "summary(res)\n",
    "\n",
    "res=results(dds,independentFiltering=FALSE)\n",
    "summary(res)\n",
    "\n",
    "res=results(dds,filterFun = ihw)\n",
    "summary(res)"
   ]
  },
  {
   "cell_type": "code",
   "execution_count": null,
   "metadata": {},
   "outputs": [],
   "source": [
    "\n",
    "resultsNames(dds)"
   ]
  },
  {
   "cell_type": "code",
   "execution_count": null,
   "metadata": {},
   "outputs": [],
   "source": [
    "res=results(dds,name=\"Stiffness_Stiff_vs_Soft\",parallel=TRUE)"
   ]
  },
  {
   "cell_type": "code",
   "execution_count": null,
   "metadata": {},
   "outputs": [],
   "source": [
    "        res$logPadj=-10*log10(res$padj)\n",
    "        res=as.data.frame(res)\n",
    "        res=na.omit(res)\n",
    "        numsig=sum(res$padj <= 0.05)\n",
    "        sigsubset=res[res$padj<=0.05,]\n",
    "        res$color=res$padj<=0.05\n",
    "        ggplot(data=res,\n",
    "        aes(x=res$log2FoldChange,\n",
    "                 y=res$logPadj,\n",
    "                 color=res$color))+\n",
    "                 geom_point()+\n",
    "                 xlab(\"Log2(FC)\")+\n",
    "                 ylab(\"-10*log10(P-adj)\")+\n",
    "                 scale_color_manual(values=c(\"#000000\",\"#ff0000\"),name=\"P.adj<0.05\")\n",
    "print(numsig)"
   ]
  },
  {
   "cell_type": "markdown",
   "metadata": {},
   "source": [
    "## Visualizations "
   ]
  },
  {
   "cell_type": "code",
   "execution_count": null,
   "metadata": {},
   "outputs": [],
   "source": [
    "#PCA on shifted log of normalized counts\n",
    "normcounts[normcounts<0]=0 \n",
    "lognorm=log2(normcounts+1)\n",
    "data.pca=prcomp(t(lognorm))\n",
    "#rld=assay(rlog(dds,blind=FALSE))\n",
    "#data.pca=prcomp(t(rld))\n",
    "var_explained=round(100*data.pca$sdev^2/sum(data.pca$sdev^2),2)\n",
    "var_explained_df=data.frame(seq(1,length(var_explained)),var_explained)\n",
    "\n"
   ]
  },
  {
   "cell_type": "code",
   "execution_count": null,
   "metadata": {},
   "outputs": [],
   "source": [
    "var_explained_df"
   ]
  },
  {
   "cell_type": "code",
   "execution_count": null,
   "metadata": {},
   "outputs": [],
   "source": [
    "pca_df=data.frame(data.pca$x)\n",
    "pca_df=cbind(pca_df,soft_stiff_batches)\n"
   ]
  },
  {
   "cell_type": "code",
   "execution_count": null,
   "metadata": {},
   "outputs": [],
   "source": [
    "pca_df$Saha=c(FALSE,FALSE,FALSE,FALSE,FALSE,FALSE)\n",
    "pca_df$Stiffness=c(\"Soft\",\"Soft\",\"Soft\",\"Stiff\",\"Stiff\",\"Stiff\")\n",
    "pca_df$Saha=factor(pca_df$Saha)\n",
    "p1=ggplot(data=pca_df,aes(x=pca_df$PC1,y=pca_df$PC2,color=pca_df$Stiffness,shape=pca_df$Saha))+\n",
    "  geom_point(size=10) +\n",
    "  xlab(\"PC1: 50.16% Var. Explained\")+\n",
    "  ylab(\"PC2: 26.12% Var. Explained\")+\n",
    "  theme_bw(20)+\n",
    "  scale_color_manual(values=c(\"#fc8d62\",\"#66c2a5\"),name=\"Soft v. Stiff\")+\n",
    "  scale_shape_manual(values=c(\"o\",\"x\"),name=\"SAHA vs No SAHA\")\n",
    "p1\n",
    "svg(\"pca.no.saha.svg\",width = 8, height = 4, pointsize = 12)\n",
    "print(p1)\n",
    "dev.off()"
   ]
  },
  {
   "cell_type": "code",
   "execution_count": null,
   "metadata": {},
   "outputs": [],
   "source": [
    "p1=ggplot(data=pca_df,\n",
    "         aes(x=pca_df$PC1,\n",
    "            y=pca_df$PC2,\n",
    "            color=pca_df$Stiffness,\n",
    "            shape=pca_df$Saha))+\n",
    "geom_point(size=5)+\n",
    "scale_color_manual(name='Soft v Stiff',values=c(\"#1b9e77\",\"#d95f02\"))\n",
    "p1"
   ]
  },
  {
   "cell_type": "code",
   "execution_count": null,
   "metadata": {},
   "outputs": [],
   "source": [
    "p2=ggplot(data=pca_df,\n",
    "         aes(x=pca_df$PC2,\n",
    "            y=pca_df$PC3,\n",
    "            color=pca_df$Stiffness,\n",
    "            shape=pca_df$Saha))+\n",
    "geom_point(size=5)+\n",
    "scale_color_manual(name='Soft v Stiff',values=c(\"#1b9e77\",\"#d95f02\"))\n",
    "p2"
   ]
  },
  {
   "cell_type": "markdown",
   "metadata": {},
   "source": [
    "## Get contributions to PC1 "
   ]
  },
  {
   "cell_type": "code",
   "execution_count": null,
   "metadata": {},
   "outputs": [],
   "source": [
    "pc1_loadings=sort(data.pca$rotation[, 1])"
   ]
  },
  {
   "cell_type": "code",
   "execution_count": null,
   "metadata": {},
   "outputs": [],
   "source": [
    "hist(pc1_loadings)"
   ]
  },
  {
   "cell_type": "code",
   "execution_count": null,
   "metadata": {},
   "outputs": [],
   "source": [
    "colors=colorRampPalette(c('#fff7f3','#fde0dd','#fcc5c0','#fa9fb5','#f768a1','#dd3497','#ae017e','#7a0177','#49006a'))(100)"
   ]
  },
  {
   "cell_type": "code",
   "execution_count": null,
   "metadata": {},
   "outputs": [],
   "source": [
    "## Try cutoffs of 2, 2.5, 3, 4 st dev \n",
    "for(nsd in c(2,2.5,3,4))\n",
    "{\n",
    "    upper_bound=mean(pc1_loadings)+nsd*sd(pc1_loadings)\n",
    "    toselect=c(names(pc1_loadings[pc1_loadings>upper_bound]))\n",
    "    heatmap_indices=match(toselect,rownames(lognorm))\n",
    "    head(heatmap_indices)\n",
    "    forheatmap=lognorm[heatmap_indices,]\n",
    "    outfname=paste(\"pc1.soft.stiff.highest.\",nsd,'.tsv',sep='')\n",
    "    write.table(forheatmap,file=outfname,row.names=TRUE,col.names=TRUE,sep='\\t')\n",
    "    print(nrow(forheatmap))\n",
    "    p1=pheatmap(forheatmap,\n",
    "         color=colors,\n",
    "         cluster_rows=TRUE, \n",
    "         show_rownames=FALSE,\n",
    "         scale='row',\n",
    "         clustering_distance_rows='euclidean',\n",
    "         clustering_distance_columns='euclidean',\n",
    "         clustering_method_rows='ward.D',\n",
    "         clustering_method_columns='ward.D',\n",
    "         cluster_cols=TRUE,\n",
    "         labels_col=c(\"Soft_1\",\"Soft_2\",\"Soft_3\",\"Stiff_1\",\"Stiff_2\",\"Stiff_3\"))\n",
    "    svg(paste(\"soft.stiff.zscores.\",nsd,\".svg\",sep=\"\"))\n",
    "    print(p1)\n",
    "    dev.off() \n",
    "}"
   ]
  }
 ],
 "metadata": {
  "kernelspec": {
   "display_name": "R 3.5",
   "language": "R",
   "name": "ir35"
  },
  "language_info": {
   "codemirror_mode": "r",
   "file_extension": ".r",
   "mimetype": "text/x-r-source",
   "name": "R",
   "pygments_lexer": "r",
   "version": "3.5.1"
  }
 },
 "nbformat": 4,
 "nbformat_minor": 2
}
